{
 "cells": [
  {
   "cell_type": "markdown",
   "metadata": {},
   "source": [
    "\n",
    "# Running simulations in parallel with ipyparallel\n",
    "\n",
    "When using an agent-based model, or any stochastic model or simulation, we frequently want to run it many different times, in order to estimate the distributions of its outputs or how they vary with input parameters. This is an example of an [embarrassingly parallel problem](https://en.wikipedia.org/wiki/Embarrassingly_parallel) (or pleasingly parallel, if you prefer). Since runs of the model are independent, we can speed up the overall process by running them in parallel on different cores on the same machine, or across multiple computers in a cluster.\n",
    "\n",
    "This tutorial will briefly cover running a model in parallel using Python 3 and [ipyparallel](http://ipyparallel.readthedocs.org/en/stable/index.html) (formerly IPython Parallel). For more details on ipyparallel in general, see the [excellent documentation](http://ipyparallel.readthedocs.org/en/stable/index.html). I'll also use the [Mesa agent-based modeling framework](https://github.com/projectmesa/mesa) for the example model, but this should work with your other favorite Python libraries too. \n",
    "\n",
    "## Installing\n",
    "\n",
    "If you have a recent version of IPython / Jupyter installed, you should already have ipyparallel as well. Otherwise, you can install it with:\n",
    "\n",
    "```.bash\n",
    "    $ pip install ipyparallel\n",
    "```\n",
    "(or conda instead of pip, if you're using [Anaconda](https://www.continuum.io/downloads)).\n",
    "\n",
    "If you want to use Mesa, just:\n",
    "\n",
    "```.sh\n",
    "    $ pip install mesa\n",
    "```\n",
    "\n",
    "## Launching your cluster\n",
    "\n",
    "The first thing we need to do is launch a cluster, in this case just on our own machine. From the terminal, to launch a four-core cluster, run:\n",
    "\n",
    "```.sh\n",
    "    $ ipcluster start -n 4\n",
    "```\n",
    "\n",
    "Leave this terminal window running in the background. \n",
    "\n",
    "Next, launch a Python interpreter. I *think* this should even work in IDLE, but I suggest opening another terminal window using either IPython\n",
    "\n",
    "```.sh\n",
    "    $ ipython\n",
    "```\n",
    "Or the Jupyter/IPython notebook:\n",
    "\n",
    "```.sh\n",
    "    $ ipython notebook\n",
    "```"
   ]
  },
  {
   "cell_type": "markdown",
   "metadata": {},
   "source": [
    "## Connecting to your cluster\n",
    "\n",
    "In your Python session, first import ipyparallel:\n"
   ]
  },
  {
   "cell_type": "code",
   "execution_count": 1,
   "metadata": {
    "collapsed": true
   },
   "outputs": [],
   "source": [
    "import ipyparallel"
   ]
  },
  {
   "cell_type": "markdown",
   "metadata": {},
   "source": [
    "Next, connect to the engines, and make sure there are four of them (or however many you decided to launch):"
   ]
  },
  {
   "cell_type": "code",
   "execution_count": 2,
   "metadata": {
    "collapsed": false
   },
   "outputs": [
    {
     "data": {
      "text/plain": [
       "[0, 1, 2, 3]"
      ]
     },
     "execution_count": 2,
     "metadata": {},
     "output_type": "execute_result"
    }
   ],
   "source": [
    "clients = ipyparallel.Client()\n",
    "clients.ids"
   ]
  },
  {
   "cell_type": "markdown",
   "metadata": {},
   "source": [
    "Next, we need to create a [**direct view**](http://ipyparallel.readthedocs.org/en/stable/details.html#directview) into the engines, which will give us direct control over them. (There is also a [**load balanced view**](http://ipyparallel.readthedocs.org/en/stable/details.html#loadbalancedview) which seems both less documented and less suitable for what we're doing here). \n",
    "\n",
    "We can do this two ways:"
   ]
  },
  {
   "cell_type": "code",
   "execution_count": 3,
   "metadata": {
    "collapsed": true
   },
   "outputs": [],
   "source": [
    "dview = clients[:]"
   ]
  },
  {
   "cell_type": "markdown",
   "metadata": {},
   "source": [
    "or"
   ]
  },
  {
   "cell_type": "code",
   "execution_count": 4,
   "metadata": {
    "collapsed": true
   },
   "outputs": [],
   "source": [
    "dview = clients.direct_view()"
   ]
  },
  {
   "cell_type": "markdown",
   "metadata": {},
   "source": [
    "To test that everything is working, you can define a trivial function and distribute it to the engines:"
   ]
  },
  {
   "cell_type": "code",
   "execution_count": 5,
   "metadata": {
    "collapsed": true
   },
   "outputs": [],
   "source": [
    "def square(x):\n",
    "    return x**2"
   ]
  },
  {
   "cell_type": "code",
   "execution_count": 6,
   "metadata": {
    "collapsed": false
   },
   "outputs": [
    {
     "name": "stdout",
     "output_type": "stream",
     "text": [
      "[0, 1, 4, 9]\n"
     ]
    }
   ],
   "source": [
    "results = dview.map_sync(square, range(4))\n",
    "print(results)"
   ]
  },
  {
   "cell_type": "markdown",
   "metadata": {},
   "source": [
    "`map_sync` applies the function given in the first argument to each value given in the second.\n",
    "\n",
    "You can give more arguments than there are engines, and the system will automatically divide them among the engines. The sync in map_sync means that it will wait until all the results are back before continuing to run. \n",
    "\n",
    "If you want to use a function which takes more than one argument, you provide the sequences of arguments one after the other, e.g.:"
   ]
  },
  {
   "cell_type": "code",
   "execution_count": 7,
   "metadata": {
    "collapsed": true
   },
   "outputs": [],
   "source": [
    "def multi(a, b):\n",
    "    return a*b"
   ]
  },
  {
   "cell_type": "code",
   "execution_count": 8,
   "metadata": {
    "collapsed": false
   },
   "outputs": [
    {
     "name": "stdout",
     "output_type": "stream",
     "text": [
      "[0, 4, 18, 40]\n"
     ]
    }
   ],
   "source": [
    "results = dview.map_sync(multi, [0, 1, 3, 5], [2, 4, 6, 8])\n",
    "print(results)"
   ]
  },
  {
   "cell_type": "markdown",
   "metadata": {},
   "source": [
    "## Simulating $\\pi$\n",
    "\n",
    "One classic simple example of doing science (or math) via numeric simulation is the [Monte Carlo estimation](https://en.wikipedia.org/wiki/Monte_Carlo_method) of $\\pi$. You may remember from high school math that the ratio between the areas of a square with side-length 1 and a circle with diameter 1 is $\\frac{\\pi}{4} \\approx 0.785$. \n",
    "\n",
    "Suppose we pick random points in a square with a circle drawn in the middle, and looked at the fraction of dots that landed inside the circle. As the number of random points grows larger, the fraction of dots inside the circle should get closer and closer to $\\frac{\\pi}{4}$. To make things even easier, we can only look at one quarter of the square-and-circle.\n",
    "\n",
    "<img src=\"MonteCarloPi.png\">\n",
    "\n",
    "In code form, this looks like:"
   ]
  },
  {
   "cell_type": "code",
   "execution_count": 9,
   "metadata": {
    "collapsed": true
   },
   "outputs": [],
   "source": [
    "import random"
   ]
  },
  {
   "cell_type": "code",
   "execution_count": 10,
   "metadata": {
    "collapsed": true
   },
   "outputs": [],
   "source": [
    "def mc_pi(n):\n",
    "    count = 0\n",
    "    for i in range(n):\n",
    "        x = random.random()\n",
    "        y = random.random()\n",
    "        if (x**2 + y**2) <= 1:\n",
    "            count += 1\n",
    "    return count/n"
   ]
  },
  {
   "cell_type": "markdown",
   "metadata": {},
   "source": [
    "You can test this by running it on a single core, suppose for a million random draws. "
   ]
  },
  {
   "cell_type": "code",
   "execution_count": 11,
   "metadata": {
    "collapsed": false
   },
   "outputs": [
    {
     "name": "stdout",
     "output_type": "stream",
     "text": [
      "0.785847\n"
     ]
    }
   ],
   "source": [
    "est_pi = mc_pi(10**6)\n",
    "print(est_pi) "
   ]
  },
  {
   "cell_type": "markdown",
   "metadata": {},
   "source": [
    "This is another embarassingly parallel task, since none of the random draws depend on one another. We can speed it up by having each core randomize 250,000 points, and aggregate the results together.\n",
    "\n",
    "The intuitive thing to do now would be to just map_sync the function across all the engines:\n",
    "\n",
    "```.python\n",
    "    results = dview.map_sync(mc_pi, [250000]*4)\n",
    "```\n",
    "\n",
    "But if you tried that, you'd get an error -- four errors actually, one for each engine. As I understand it, the engines are (more or less) miniature Python sessions running independently. Just because you imported something -- in this case, random -- into the Hub session doesn't mean it was imported into all of the separate engines. We have to do that explicitly:\n"
   ]
  },
  {
   "cell_type": "code",
   "execution_count": 12,
   "metadata": {
    "collapsed": false
   },
   "outputs": [
    {
     "name": "stdout",
     "output_type": "stream",
     "text": [
      "importing random on engine(s)\n"
     ]
    }
   ],
   "source": [
    "with dview.sync_imports():\n",
    "    import random"
   ]
  },
  {
   "cell_type": "markdown",
   "metadata": {},
   "source": [
    "**Now** we can run the function on all the engines:"
   ]
  },
  {
   "cell_type": "code",
   "execution_count": 13,
   "metadata": {
    "collapsed": false
   },
   "outputs": [
    {
     "name": "stdout",
     "output_type": "stream",
     "text": [
      "0.785564\n"
     ]
    }
   ],
   "source": [
    "est_pis = dview.map_sync(mc_pi, [250000]*4)\n",
    "print(sum(est_pis)/4)"
   ]
  },
  {
   "cell_type": "markdown",
   "metadata": {},
   "source": [
    "If you're using IPython, you can use %%timeit to compare the timing of running 1 million points all together versus in parallel, and you'll see that parallel running gives you an almost 4x speedup (almost, because of the overhead involved in moving the data back and forth between the engines)."
   ]
  },
  {
   "cell_type": "code",
   "execution_count": 14,
   "metadata": {
    "collapsed": false
   },
   "outputs": [
    {
     "name": "stdout",
     "output_type": "stream",
     "text": [
      "1 loops, best of 3: 544 ms per loop\n"
     ]
    }
   ],
   "source": [
    "%%timeit\n",
    "est_pi = mc_pi(10**6)"
   ]
  },
  {
   "cell_type": "code",
   "execution_count": 15,
   "metadata": {
    "collapsed": false
   },
   "outputs": [
    {
     "name": "stdout",
     "output_type": "stream",
     "text": [
      "1 loops, best of 3: 175 ms per loop\n"
     ]
    }
   ],
   "source": [
    "%%timeit\n",
    "est_pis = dview.map_sync(mc_pi, [250000]*4)"
   ]
  },
  {
   "cell_type": "markdown",
   "metadata": {},
   "source": [
    "## Parallel Models\n",
    "\n",
    "So far so good, but estimating pi is a very simple case: it only uses one standard Python library, and returns a number as an output. We want to be able to run more complicated models and simulations too.\n",
    "\n",
    "As an example, I'll use the [Mesa agent-based modeling framework](https://github.com/projectmesa/mesa), and the very simple ABM from [the tutorial](http://mesa.readthedocs.org/en/latest/intro-tutorial.html). \n",
    "\n",
    "**Model summary**: the model consists of some number of agents, who all start with 1 unit of money. Every step, if an agent has 1 money unit or more, they give 1 unit to another agent, chosen at random.\n",
    "\n",
    "The interesting thing is what distribution of wealth starts to emerge after a few steps.\n",
    "\n",
    "Below is the model code; for more details, see the [Mesa documentation](http://mesa.readthedocs.org/en/latest/)."
   ]
  },
  {
   "cell_type": "code",
   "execution_count": 16,
   "metadata": {
    "collapsed": true
   },
   "outputs": [],
   "source": [
    "import random\n",
    "from mesa import Model, Agent\n",
    "from mesa.time import RandomActivation"
   ]
  },
  {
   "cell_type": "code",
   "execution_count": 17,
   "metadata": {
    "collapsed": true
   },
   "outputs": [],
   "source": [
    "class MoneyModel(Model):\n",
    "    def __init__(self, N):\n",
    "        self.num_agents = N\n",
    "        self.schedule = RandomActivation(self)\n",
    "        self.create_agents()\n",
    "\n",
    "    def create_agents(self):\n",
    "        for i in range(self.num_agents):\n",
    "            a = MoneyAgent(i)\n",
    "            self.schedule.add(a)\n",
    "\n",
    "    def step(self):\n",
    "        self.schedule.step()\n",
    "\n",
    "    def run_model(self, steps):\n",
    "        for i in range(steps):\n",
    "            self.step() "
   ]
  },
  {
   "cell_type": "code",
   "execution_count": 18,
   "metadata": {
    "collapsed": true
   },
   "outputs": [],
   "source": [
    "class MoneyAgent(Agent):\n",
    "\n",
    "    def __init__(self, unique_id):\n",
    "        self.unique_id = unique_id\n",
    "        self.wealth = 1\n",
    "\n",
    "    def step(self, model):\n",
    "        if self.wealth > 0:\n",
    "            # Pick a random agent\n",
    "            other = random.choice(model.schedule.agents)\n",
    "            # Give them 1 unit money\n",
    "            other.wealth += 1\n",
    "            self.wealth -= 1"
   ]
  },
  {
   "cell_type": "markdown",
   "metadata": {},
   "source": [
    "Now, to create a model with 100 agents and run it for 100 steps (on the main hub for now):"
   ]
  },
  {
   "cell_type": "code",
   "execution_count": 19,
   "metadata": {
    "collapsed": true
   },
   "outputs": [],
   "source": [
    "model = MoneyModel(100)\n",
    "model.run_model(100)"
   ]
  },
  {
   "cell_type": "markdown",
   "metadata": {},
   "source": [
    "And we can visualize the distribution of agent wealths:"
   ]
  },
  {
   "cell_type": "code",
   "execution_count": 20,
   "metadata": {
    "collapsed": true
   },
   "outputs": [],
   "source": [
    "import matplotlib.pyplot as plt\n",
    "%matplotlib inline\n",
    "plt.style.use('bmh')"
   ]
  },
  {
   "cell_type": "code",
   "execution_count": 21,
   "metadata": {
    "collapsed": false
   },
   "outputs": [
    {
     "data": {
      "image/png": "[encoded data removed]",
      "text/plain": [
       "<matplotlib.figure.Figure at 0x108b83470>"
      ]
     },
     "metadata": {},
     "output_type": "display_data"
    }
   ],
   "source": [
    "agent_wealths = [a.wealth for a in model.schedule.agents]\n",
    "plt.hist(agent_wealths, bins=range(max(agent_wealths)+1))\n",
    "plt.xlabel(\"Wealth\")\n",
    "_ = plt.ylabel(\"# of agents\")"
   ]
  },
  {
   "cell_type": "markdown",
   "metadata": {},
   "source": [
    "Despite that on average, every agent should give and get one unit of money each step, we see that most agents end up with no money, and an increasingly small number end up with more and more of it. \n",
    "\n",
    "Of course, this is just one random run with some particular parameters, and there's no way for us to tell whether these results are typical or not*.  So we need to run the model multiple times. Who could have guessed this is where this was going?\n",
    "\n",
    "(*Yes, this is technically a Bolzmann distribution, which does have a closed form, but that's not what this tutorial is about.)\n",
    "\n",
    "To do this serially on a single core, we can do something like this:\n"
   ]
  },
  {
   "cell_type": "code",
   "execution_count": 22,
   "metadata": {
    "collapsed": true
   },
   "outputs": [],
   "source": [
    "all_models = []\n",
    "for i in range(10):\n",
    "    model = MoneyModel(100)\n",
    "    model.run_model(100)\n",
    "    all_models.append(model)"
   ]
  },
  {
   "cell_type": "code",
   "execution_count": 23,
   "metadata": {
    "collapsed": false
   },
   "outputs": [
    {
     "data": {
      "image/png": "[encoded data removed]",
      "text/plain": [
       "<matplotlib.figure.Figure at 0x108c80da0>"
      ]
     },
     "metadata": {},
     "output_type": "display_data"
    }
   ],
   "source": [
    "# Get wealths and visualize:\n",
    "agent_wealths = []\n",
    "for model in all_models:\n",
    "    agent_wealths += [a.wealth for a in model.schedule.agents]\n",
    "plt.hist(agent_wealths, bins=range(max(agent_wealths)+1))\n",
    "plt.xlabel(\"Wealth\")\n",
    "_ = plt.ylabel(\"# of agents\")"
   ]
  },
  {
   "cell_type": "markdown",
   "metadata": {},
   "source": [
    "Again, we can't just run the code as-is on all the engines: it relies not just on the Mesa-specific imports, but on the two classes we created, MoneyModel and MoneyAgent.\n",
    "\n",
    "The imports we already know how to deal with:"
   ]
  },
  {
   "cell_type": "code",
   "execution_count": 24,
   "metadata": {
    "collapsed": false
   },
   "outputs": [
    {
     "name": "stdout",
     "output_type": "stream",
     "text": [
      "importing random on engine(s)\n",
      "importing Model,Agent from mesa on engine(s)\n",
      "importing RandomActivation from mesa.time on engine(s)\n"
     ]
    }
   ],
   "source": [
    "with dview.sync_imports():\n",
    "    import random\n",
    "    from mesa import Model, Agent\n",
    "    from mesa.time import RandomActivation"
   ]
  },
  {
   "cell_type": "markdown",
   "metadata": {},
   "source": [
    "Next, we need to send the classes to the engines. We can send any arbitrary Python objects across using the push function, which takes a dictionary associating names for objects on the engines to the actual object to send. In this case, we want the names to stay the same.\n"
   ]
  },
  {
   "cell_type": "code",
   "execution_count": 25,
   "metadata": {
    "collapsed": false
   },
   "outputs": [
    {
     "data": {
      "text/plain": [
       "<AsyncResult: finished>"
      ]
     },
     "execution_count": 25,
     "metadata": {},
     "output_type": "execute_result"
    }
   ],
   "source": [
    "dview.push({\"MoneyAgent\": MoneyAgent, \"MoneyModel\": MoneyModel})"
   ]
  },
  {
   "cell_type": "markdown",
   "metadata": {},
   "source": [
    "Now we wrap up the code we want to execute in a function. It needs to take some argument, but we can just have it do nothing with it for now.\n"
   ]
  },
  {
   "cell_type": "code",
   "execution_count": 26,
   "metadata": {
    "collapsed": true
   },
   "outputs": [],
   "source": [
    "def make_model(_):\n",
    "    model = MoneyModel(100)\n",
    "    model.run_model(100)\n",
    "    return model"
   ]
  },
  {
   "cell_type": "code",
   "execution_count": 27,
   "metadata": {
    "collapsed": true
   },
   "outputs": [],
   "source": [
    "all_models = dview.map_sync(make_model, [None]*10)"
   ]
  },
  {
   "cell_type": "markdown",
   "metadata": {},
   "source": [
    "The resuling `all_models` list is a list of model objects, just like the one above."
   ]
  },
  {
   "cell_type": "code",
   "execution_count": 28,
   "metadata": {
    "collapsed": false
   },
   "outputs": [
    {
     "name": "stdout",
     "output_type": "stream",
     "text": [
      "Steps completed: 100\n"
     ]
    }
   ],
   "source": [
    "m = all_models[0]\n",
    "print(\"Steps completed: \" + str(m.schedule.steps))"
   ]
  },
  {
   "cell_type": "code",
   "execution_count": 29,
   "metadata": {
    "collapsed": false
   },
   "outputs": [
    {
     "data": {
      "image/png": "[encoded data removed]",
      "text/plain": [
       "<matplotlib.figure.Figure at 0x108da08d0>"
      ]
     },
     "metadata": {},
     "output_type": "display_data"
    }
   ],
   "source": [
    "# Get wealths and visualize:\n",
    "agent_wealths = []\n",
    "for model in all_models:\n",
    "    agent_wealths += [a.wealth for a in model.schedule.agents]\n",
    "plt.hist(agent_wealths, bins=range(max(agent_wealths)+1))\n",
    "plt.xlabel(\"Wealth\")\n",
    "_ = plt.ylabel(\"# of agents\")"
   ]
  },
  {
   "cell_type": "markdown",
   "metadata": {},
   "source": [
    "If you time it, you'll see a substantial speedup -- not quite 4x, because the data to transfer between engines is bulkier now, but still pretty good!"
   ]
  },
  {
   "cell_type": "code",
   "execution_count": 30,
   "metadata": {
    "collapsed": false
   },
   "outputs": [
    {
     "name": "stdout",
     "output_type": "stream",
     "text": [
      "1 loops, best of 3: 244 ms per loop\n"
     ]
    }
   ],
   "source": [
    "%%timeit\n",
    "all_models = []\n",
    "for i in range(10):\n",
    "    model = MoneyModel(100)\n",
    "    model.run_model(100)\n",
    "    all_models.append(model)"
   ]
  },
  {
   "cell_type": "code",
   "execution_count": 31,
   "metadata": {
    "collapsed": false
   },
   "outputs": [
    {
     "name": "stdout",
     "output_type": "stream",
     "text": [
      "10 loops, best of 3: 88.8 ms per loop\n"
     ]
    }
   ],
   "source": [
    "%%timeit\n",
    "completed_models = dview.map_sync(make_model, [None]*10)"
   ]
  }
 ],
 "metadata": {
  "kernelspec": {
   "display_name": "Python 3",
   "language": "python",
   "name": "python3"
  },
  "language_info": {
   "codemirror_mode": {
    "name": "ipython",
    "version": 3
   },
   "file_extension": ".py",
   "mimetype": "text/x-python",
   "name": "python",
   "nbconvert_exporter": "python",
   "pygments_lexer": "ipython3",
   "version": "3.4.2"
  }
 },
 "nbformat": 4,
 "nbformat_minor": 0
}
